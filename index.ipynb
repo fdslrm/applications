{
 "cells": [
  {
   "cell_type": "markdown",
   "metadata": {},
   "source": [
    "**Authors:** Andrej Gajdoš, Martina Hančová, Jozef Hanč  <br> *[Faculty of Science](https://www.upjs.sk/en/faculty-of-science/?prefferedLang=EN), P. J. Šafárik University in Košice, Slovakia* <br> email: [andrej.gajdos@student.upjs.sk](mailto:andrej.gajdos@student.upjs.sk), [martina.hancova@upjs.sk](mailto:martina.hancova@upjs.sk)\n",
    "***\n",
    "**<font size=6 color=brown> Applications of FDSLRM </font>**   \n",
    "\n",
    "<font size=4> 10 Jupyter notebooks with real data set applications of FDSLRM, mainly in econometrics</font>.\n",
    "\n",
    "If you run this notebook locally in your PC, install our package fdslrm via instalation notebook \n",
    "[00 Install fdslrm R package.ipynb](00-Install-fdslrm-R-package.ipynb).\n",
    "\n",
    "***\n",
    "## Index \n",
    "\n",
    "1. [Tourism.ipynb](notebooks/Tourism.ipynb)\n",
    "2. [Cyberattacks.ipynb](notebooks/Cyberattacks.ipynb)\n",
    "3. [Electricity.ipynb](notebooks/Electricity.ipynb)\n",
    "4. [InsuranceAdvert.ipynb](notebooks/InsuranceAdvert.ipynb)\n",
    "5. [InsuranceQuot.ipynb](notebooks/InsuranceQuot.ipynb)\n",
    "6. [Livestock.ipynb](notebooks/Livestock.ipynb)\n",
    "7. [MinkTrappings.ipynb](notebooks/MinkTrappings.ipynb)\n",
    "8. [Population.ipynb](notebooks/Population.ipynb)\n",
    "9. [Strikes.ipynb](notebooks/Strikes.ipynb)\n",
    "10. [Temperatures.ipynb](notebooks/Temperatures.ipynb)"
   ]
  },
  {
   "cell_type": "markdown",
   "metadata": {},
   "source": [
    "***\n",
    "<a id=references></a>\n",
    "# <font color=brown> References </font>\n",
    "This notebook belongs to a research project *fdslrm: Time series analysis and forecasting using LMM* \n",
    "\n",
    "* Gajdoš A., Hanč J., and Hančová M. (2019). *fdslrm*. GitHub repository, P.J. Šafárik University in Košice, Slovakia. https://github.com/fdslrm/\n",
    "\n",
    "* Gajdoš A., Hanč J., and Hančová M. (2019). _fdslrm package_. P.J. Šafárik University in Košice, Slovakia. https://github.com/fdslrm/R-package."
   ]
  }
 ],
 "metadata": {
  "kernelspec": {
   "display_name": "Python 2.7",
   "language": "python",
   "name": "python2"
  },
  "language_info": {
   "codemirror_mode": {
    "name": "ipython",
    "version": 2
   },
   "file_extension": ".py",
   "mimetype": "text/x-python",
   "name": "python",
   "nbconvert_exporter": "python",
   "pygments_lexer": "ipython2",
   "version": "2.7.16"
  }
 },
 "nbformat": 4,
 "nbformat_minor": 2
}
